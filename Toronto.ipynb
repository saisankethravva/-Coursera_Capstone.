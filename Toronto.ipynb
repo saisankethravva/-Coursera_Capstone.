{
 "cells": [
  {
   "cell_type": "markdown",
   "metadata": {},
   "source": [
    "<h1>\n",
    "Capstone Project – The Battle of Neighborhoods | Finding a Better Place in Scarborough, Toronto</h1>"
   ]
  },
  {
   "cell_type": "markdown",
   "metadata": {},
   "source": [
    "<h4>1. Installing and Importing geocoder, folium,geopy and beutifulsoup4</h4>"
   ]
  },
  {
   "cell_type": "code",
   "execution_count": 1,
   "metadata": {},
   "outputs": [
    {
     "name": "stdout",
     "output_type": "stream",
     "text": [
      "Requirement already satisfied: geocoder in c:\\users\\sai\\anaconda3\\lib\\site-packages (1.38.1)\n",
      "Requirement already satisfied: future in c:\\users\\sai\\anaconda3\\lib\\site-packages (from geocoder) (0.17.1)\n",
      "Requirement already satisfied: click in c:\\users\\sai\\anaconda3\\lib\\site-packages (from geocoder) (7.0)\n",
      "Requirement already satisfied: six in c:\\users\\sai\\anaconda3\\lib\\site-packages (from geocoder) (1.12.0)\n",
      "Requirement already satisfied: requests in c:\\users\\sai\\anaconda3\\lib\\site-packages (from geocoder) (2.21.0)\n",
      "Requirement already satisfied: ratelim in c:\\users\\sai\\anaconda3\\lib\\site-packages (from geocoder) (0.1.6)\n",
      "Requirement already satisfied: idna<2.9,>=2.5 in c:\\users\\sai\\anaconda3\\lib\\site-packages (from requests->geocoder) (2.8)\n",
      "Requirement already satisfied: urllib3<1.25,>=1.21.1 in c:\\users\\sai\\anaconda3\\lib\\site-packages (from requests->geocoder) (1.24.1)\n",
      "Requirement already satisfied: certifi>=2017.4.17 in c:\\users\\sai\\anaconda3\\lib\\site-packages (from requests->geocoder) (2019.3.9)\n",
      "Requirement already satisfied: chardet<3.1.0,>=3.0.2 in c:\\users\\sai\\anaconda3\\lib\\site-packages (from requests->geocoder) (3.0.4)\n",
      "Requirement already satisfied: decorator in c:\\users\\sai\\anaconda3\\lib\\site-packages (from ratelim->geocoder) (4.4.0)\n",
      "Requirement already satisfied: folium in c:\\users\\sai\\anaconda3\\lib\\site-packages (0.10.1)\n",
      "Requirement already satisfied: branca>=0.3.0 in c:\\users\\sai\\anaconda3\\lib\\site-packages (from folium) (0.4.0)\n",
      "Requirement already satisfied: numpy in c:\\users\\sai\\anaconda3\\lib\\site-packages (from folium) (1.16.2)\n",
      "Requirement already satisfied: requests in c:\\users\\sai\\anaconda3\\lib\\site-packages (from folium) (2.21.0)\n",
      "Requirement already satisfied: jinja2>=2.9 in c:\\users\\sai\\anaconda3\\lib\\site-packages (from folium) (2.10)\n",
      "Requirement already satisfied: six in c:\\users\\sai\\anaconda3\\lib\\site-packages (from branca>=0.3.0->folium) (1.12.0)\n",
      "Requirement already satisfied: chardet<3.1.0,>=3.0.2 in c:\\users\\sai\\anaconda3\\lib\\site-packages (from requests->folium) (3.0.4)\n",
      "Requirement already satisfied: certifi>=2017.4.17 in c:\\users\\sai\\anaconda3\\lib\\site-packages (from requests->folium) (2019.3.9)\n",
      "Requirement already satisfied: urllib3<1.25,>=1.21.1 in c:\\users\\sai\\anaconda3\\lib\\site-packages (from requests->folium) (1.24.1)\n",
      "Requirement already satisfied: idna<2.9,>=2.5 in c:\\users\\sai\\anaconda3\\lib\\site-packages (from requests->folium) (2.8)\n",
      "Requirement already satisfied: MarkupSafe>=0.23 in c:\\users\\sai\\anaconda3\\lib\\site-packages (from jinja2>=2.9->folium) (1.1.1)\n",
      "Requirement already satisfied: geopy in c:\\users\\sai\\anaconda3\\lib\\site-packages (1.21.0)\n",
      "Requirement already satisfied: geographiclib<2,>=1.49 in c:\\users\\sai\\anaconda3\\lib\\site-packages (from geopy) (1.50)\n",
      "Requirement already satisfied: beautifulsoup4 in c:\\users\\sai\\anaconda3\\lib\\site-packages (4.7.1)\n",
      "Requirement already satisfied: soupsieve>=1.2 in c:\\users\\sai\\anaconda3\\lib\\site-packages (from beautifulsoup4) (1.8)\n"
     ]
    }
   ],
   "source": [
    "\n",
    "!pip install geocoder\n",
    "!pip install folium\n",
    "!pip install geopy\n",
    "!pip install beautifulsoup4"
   ]
  },
  {
   "cell_type": "markdown",
   "metadata": {},
   "source": [
    "<h3>Importing The important libraries like panda and numpy</h3>"
   ]
  },
  {
   "cell_type": "code",
   "execution_count": 2,
   "metadata": {},
   "outputs": [
    {
     "name": "stdout",
     "output_type": "stream",
     "text": [
      "All Required Libraries for the project  are Imported!\n"
     ]
    }
   ],
   "source": [
    " \n",
    "import pandas as pd\n",
    "import requests\n",
    "import numpy as np\n",
    "import geocoder\n",
    "import folium\n",
    "import requests \n",
    "import matplotlib.cm as cm\n",
    "import matplotlib.colors as colors\n",
    "import json\n",
    "import xml\n",
    "import matplotlib.pyplot as plt\n",
    "%matplotlib inline\n",
    "import warnings\n",
    "warnings.filterwarnings(\"ignore\")\n",
    "\n",
    "from pandas.io.json import json_normalize \n",
    "from sklearn.cluster import KMeans\n",
    "from geopy.geocoders import Nominatim \n",
    "from bs4 import BeautifulSoup\n",
    "\n",
    "pd.set_option('display.max_columns', None)\n",
    "pd.set_option('display.max_rows', None)\n",
    "\n",
    "print(\"All Required Libraries for the project  are Imported!\")\n"
   ]
  },
  {
   "cell_type": "markdown",
   "metadata": {},
   "source": [
    "<h3>2. Data Extraction and Cleaning</h3>\n",
    "<h4>Using BeautifulSoup Scraping List of Postal Codes of Given Wikipedia Page. Link: https://en.wikipedia.org/wiki/List_of_postal_codes_of_Canada:_M</h4>"
   ]
  },
  {
   "cell_type": "code",
   "execution_count": 3,
   "metadata": {},
   "outputs": [],
   "source": [
    "url = \"https://en.wikipedia.org/wiki/List_of_postal_codes_of_Canada:_M\"\n",
    "extracting_data = requests.get(url).text\n",
    "wiki_data = BeautifulSoup(extracting_data, 'html.parser')\n"
   ]
  },
  {
   "cell_type": "markdown",
   "metadata": {},
   "source": [
    "<h5>Converting content of PostalCode HTML table as dataframe</h5>"
   ]
  },
  {
   "cell_type": "code",
   "execution_count": 4,
   "metadata": {},
   "outputs": [],
   "source": [
    "column_names = ['Postalcode','Borough','Neighborhood']\n",
    "toronto = pd.DataFrame(columns = column_names)\n",
    "\n",
    "content = wiki_data.find('div', class_='mw-parser-output')\n",
    "table = content.table.tbody\n",
    "postcode = 0\n",
    "borough = 0\n",
    "neighborhood = 0\n",
    "\n",
    "for tr in table.find_all('tr'):\n",
    "    i = 0\n",
    "    for td in tr.find_all('td'):\n",
    "        if i == 0:\n",
    "            postcode = td.text.strip('\\n').replace(']','')\n",
    "            i = i + 1\n",
    "        elif i == 1:\n",
    "            borough = td.text.strip('\\n').replace(']','')\n",
    "            i = i + 1\n",
    "        elif i == 2: \n",
    "            neighborhood = td.text.strip('\\n').replace(']','')\n",
    "    toronto = toronto.append({'Postalcode': postcode,'Borough': borough,'Neighborhood': neighborhood},ignore_index=True)"
   ]
  },
  {
   "cell_type": "code",
   "execution_count": 5,
   "metadata": {},
   "outputs": [],
   "source": [
    "toronto = toronto[toronto.Borough!='Not assigned']\n",
    "toronto = toronto[toronto.Borough!= 0]\n",
    "toronto.reset_index(drop = True, inplace = True)\n",
    "i = 0\n",
    "for i in range(0,toronto.shape[0]):\n",
    "    if toronto.iloc[i][2] == 'Not assigned':\n",
    "        toronto.iloc[i][2] = toronto.iloc[i][1]\n",
    "        i = i+1"
   ]
  },
  {
   "cell_type": "code",
   "execution_count": 6,
   "metadata": {},
   "outputs": [
    {
     "data": {
      "text/html": [
       "<div>\n",
       "<style scoped>\n",
       "    .dataframe tbody tr th:only-of-type {\n",
       "        vertical-align: middle;\n",
       "    }\n",
       "\n",
       "    .dataframe tbody tr th {\n",
       "        vertical-align: top;\n",
       "    }\n",
       "\n",
       "    .dataframe thead th {\n",
       "        text-align: right;\n",
       "    }\n",
       "</style>\n",
       "<table border=\"1\" class=\"dataframe\">\n",
       "  <thead>\n",
       "    <tr style=\"text-align: right;\">\n",
       "      <th></th>\n",
       "      <th>Postalcode</th>\n",
       "      <th>Borough</th>\n",
       "      <th>Neighborhood</th>\n",
       "    </tr>\n",
       "  </thead>\n",
       "  <tbody>\n",
       "    <tr>\n",
       "      <th>0</th>\n",
       "      <td>M1B</td>\n",
       "      <td>Scarborough</td>\n",
       "      <td>Malvern / Rouge</td>\n",
       "    </tr>\n",
       "    <tr>\n",
       "      <th>1</th>\n",
       "      <td>M1C</td>\n",
       "      <td>Scarborough</td>\n",
       "      <td>Rouge Hill / Port Union / Highland Creek</td>\n",
       "    </tr>\n",
       "    <tr>\n",
       "      <th>2</th>\n",
       "      <td>M1E</td>\n",
       "      <td>Scarborough</td>\n",
       "      <td>Guildwood / Morningside / West Hill</td>\n",
       "    </tr>\n",
       "    <tr>\n",
       "      <th>3</th>\n",
       "      <td>M1G</td>\n",
       "      <td>Scarborough</td>\n",
       "      <td>Woburn</td>\n",
       "    </tr>\n",
       "    <tr>\n",
       "      <th>4</th>\n",
       "      <td>M1H</td>\n",
       "      <td>Scarborough</td>\n",
       "      <td>Cedarbrae</td>\n",
       "    </tr>\n",
       "  </tbody>\n",
       "</table>\n",
       "</div>"
      ],
      "text/plain": [
       "  Postalcode      Borough                              Neighborhood\n",
       "0        M1B  Scarborough                           Malvern / Rouge\n",
       "1        M1C  Scarborough  Rouge Hill / Port Union / Highland Creek\n",
       "2        M1E  Scarborough       Guildwood / Morningside / West Hill\n",
       "3        M1G  Scarborough                                    Woburn\n",
       "4        M1H  Scarborough                                 Cedarbrae"
      ]
     },
     "execution_count": 6,
     "metadata": {},
     "output_type": "execute_result"
    }
   ],
   "source": [
    "df = toronto.groupby(['Postalcode','Borough'])['Neighborhood'].apply(', '.join).reset_index()\n",
    "df.head()"
   ]
  },
  {
   "cell_type": "code",
   "execution_count": 7,
   "metadata": {},
   "outputs": [
    {
     "data": {
      "text/html": [
       "<div>\n",
       "<style scoped>\n",
       "    .dataframe tbody tr th:only-of-type {\n",
       "        vertical-align: middle;\n",
       "    }\n",
       "\n",
       "    .dataframe tbody tr th {\n",
       "        vertical-align: top;\n",
       "    }\n",
       "\n",
       "    .dataframe thead th {\n",
       "        text-align: right;\n",
       "    }\n",
       "</style>\n",
       "<table border=\"1\" class=\"dataframe\">\n",
       "  <thead>\n",
       "    <tr style=\"text-align: right;\">\n",
       "      <th></th>\n",
       "      <th>Postalcode</th>\n",
       "      <th>Borough</th>\n",
       "      <th>Neighborhood</th>\n",
       "    </tr>\n",
       "  </thead>\n",
       "  <tbody>\n",
       "    <tr>\n",
       "      <th>count</th>\n",
       "      <td>103</td>\n",
       "      <td>103</td>\n",
       "      <td>103</td>\n",
       "    </tr>\n",
       "    <tr>\n",
       "      <th>unique</th>\n",
       "      <td>103</td>\n",
       "      <td>10</td>\n",
       "      <td>98</td>\n",
       "    </tr>\n",
       "    <tr>\n",
       "      <th>top</th>\n",
       "      <td>M5H</td>\n",
       "      <td>North York</td>\n",
       "      <td>Downsview</td>\n",
       "    </tr>\n",
       "    <tr>\n",
       "      <th>freq</th>\n",
       "      <td>1</td>\n",
       "      <td>24</td>\n",
       "      <td>4</td>\n",
       "    </tr>\n",
       "  </tbody>\n",
       "</table>\n",
       "</div>"
      ],
      "text/plain": [
       "       Postalcode     Borough Neighborhood\n",
       "count         103         103          103\n",
       "unique        103          10           98\n",
       "top           M5H  North York    Downsview\n",
       "freq            1          24            4"
      ]
     },
     "execution_count": 7,
     "metadata": {},
     "output_type": "execute_result"
    }
   ],
   "source": [
    "df.describe()"
   ]
  },
  {
   "cell_type": "code",
   "execution_count": 8,
   "metadata": {},
   "outputs": [],
   "source": [
    "df = df.dropna()\n",
    "empty = 'Not assigned'\n",
    "df = df[(df.Postalcode != empty ) & (df.Borough != empty) & (df.Neighborhood != empty)]"
   ]
  },
  {
   "cell_type": "code",
   "execution_count": 9,
   "metadata": {},
   "outputs": [
    {
     "data": {
      "text/html": [
       "<div>\n",
       "<style scoped>\n",
       "    .dataframe tbody tr th:only-of-type {\n",
       "        vertical-align: middle;\n",
       "    }\n",
       "\n",
       "    .dataframe tbody tr th {\n",
       "        vertical-align: top;\n",
       "    }\n",
       "\n",
       "    .dataframe thead th {\n",
       "        text-align: right;\n",
       "    }\n",
       "</style>\n",
       "<table border=\"1\" class=\"dataframe\">\n",
       "  <thead>\n",
       "    <tr style=\"text-align: right;\">\n",
       "      <th></th>\n",
       "      <th>Postalcode</th>\n",
       "      <th>Borough</th>\n",
       "      <th>Neighborhood</th>\n",
       "    </tr>\n",
       "  </thead>\n",
       "  <tbody>\n",
       "    <tr>\n",
       "      <th>0</th>\n",
       "      <td>M1B</td>\n",
       "      <td>Scarborough</td>\n",
       "      <td>Malvern / Rouge</td>\n",
       "    </tr>\n",
       "    <tr>\n",
       "      <th>1</th>\n",
       "      <td>M1C</td>\n",
       "      <td>Scarborough</td>\n",
       "      <td>Rouge Hill / Port Union / Highland Creek</td>\n",
       "    </tr>\n",
       "    <tr>\n",
       "      <th>2</th>\n",
       "      <td>M1E</td>\n",
       "      <td>Scarborough</td>\n",
       "      <td>Guildwood / Morningside / West Hill</td>\n",
       "    </tr>\n",
       "    <tr>\n",
       "      <th>3</th>\n",
       "      <td>M1G</td>\n",
       "      <td>Scarborough</td>\n",
       "      <td>Woburn</td>\n",
       "    </tr>\n",
       "    <tr>\n",
       "      <th>4</th>\n",
       "      <td>M1H</td>\n",
       "      <td>Scarborough</td>\n",
       "      <td>Cedarbrae</td>\n",
       "    </tr>\n",
       "  </tbody>\n",
       "</table>\n",
       "</div>"
      ],
      "text/plain": [
       "  Postalcode      Borough                              Neighborhood\n",
       "0        M1B  Scarborough                           Malvern / Rouge\n",
       "1        M1C  Scarborough  Rouge Hill / Port Union / Highland Creek\n",
       "2        M1E  Scarborough       Guildwood / Morningside / West Hill\n",
       "3        M1G  Scarborough                                    Woburn\n",
       "4        M1H  Scarborough                                 Cedarbrae"
      ]
     },
     "execution_count": 9,
     "metadata": {},
     "output_type": "execute_result"
    }
   ],
   "source": [
    "\n",
    "df.head()"
   ]
  },
  {
   "cell_type": "code",
   "execution_count": 10,
   "metadata": {},
   "outputs": [],
   "source": [
    "def neighborhood_list(grouped):    \n",
    "    return ', '.join(sorted(grouped['Neighborhood'].tolist()))\n",
    "                    \n",
    "grp = df.groupby(['Postalcode', 'Borough'])\n",
    "df_2 = grp.apply(neighborhood_list).reset_index(name='Neighborhood')"
   ]
  },
  {
   "cell_type": "code",
   "execution_count": 11,
   "metadata": {},
   "outputs": [
    {
     "data": {
      "text/html": [
       "<div>\n",
       "<style scoped>\n",
       "    .dataframe tbody tr th:only-of-type {\n",
       "        vertical-align: middle;\n",
       "    }\n",
       "\n",
       "    .dataframe tbody tr th {\n",
       "        vertical-align: top;\n",
       "    }\n",
       "\n",
       "    .dataframe thead th {\n",
       "        text-align: right;\n",
       "    }\n",
       "</style>\n",
       "<table border=\"1\" class=\"dataframe\">\n",
       "  <thead>\n",
       "    <tr style=\"text-align: right;\">\n",
       "      <th></th>\n",
       "      <th>Postalcode</th>\n",
       "      <th>Borough</th>\n",
       "      <th>Neighborhood</th>\n",
       "    </tr>\n",
       "  </thead>\n",
       "  <tbody>\n",
       "    <tr>\n",
       "      <th>count</th>\n",
       "      <td>103</td>\n",
       "      <td>103</td>\n",
       "      <td>103</td>\n",
       "    </tr>\n",
       "    <tr>\n",
       "      <th>unique</th>\n",
       "      <td>103</td>\n",
       "      <td>10</td>\n",
       "      <td>98</td>\n",
       "    </tr>\n",
       "    <tr>\n",
       "      <th>top</th>\n",
       "      <td>M5H</td>\n",
       "      <td>North York</td>\n",
       "      <td>Downsview</td>\n",
       "    </tr>\n",
       "    <tr>\n",
       "      <th>freq</th>\n",
       "      <td>1</td>\n",
       "      <td>24</td>\n",
       "      <td>4</td>\n",
       "    </tr>\n",
       "  </tbody>\n",
       "</table>\n",
       "</div>"
      ],
      "text/plain": [
       "       Postalcode     Borough Neighborhood\n",
       "count         103         103          103\n",
       "unique        103          10           98\n",
       "top           M5H  North York    Downsview\n",
       "freq            1          24            4"
      ]
     },
     "execution_count": 11,
     "metadata": {},
     "output_type": "execute_result"
    }
   ],
   "source": [
    "df_2.describe()"
   ]
  },
  {
   "cell_type": "code",
   "execution_count": 12,
   "metadata": {},
   "outputs": [
    {
     "name": "stdout",
     "output_type": "stream",
     "text": [
      "(103, 3)\n"
     ]
    },
    {
     "data": {
      "text/html": [
       "<div>\n",
       "<style scoped>\n",
       "    .dataframe tbody tr th:only-of-type {\n",
       "        vertical-align: middle;\n",
       "    }\n",
       "\n",
       "    .dataframe tbody tr th {\n",
       "        vertical-align: top;\n",
       "    }\n",
       "\n",
       "    .dataframe thead th {\n",
       "        text-align: right;\n",
       "    }\n",
       "</style>\n",
       "<table border=\"1\" class=\"dataframe\">\n",
       "  <thead>\n",
       "    <tr style=\"text-align: right;\">\n",
       "      <th></th>\n",
       "      <th>Postalcode</th>\n",
       "      <th>Borough</th>\n",
       "      <th>Neighborhood</th>\n",
       "    </tr>\n",
       "  </thead>\n",
       "  <tbody>\n",
       "    <tr>\n",
       "      <th>0</th>\n",
       "      <td>M1B</td>\n",
       "      <td>Scarborough</td>\n",
       "      <td>Malvern / Rouge</td>\n",
       "    </tr>\n",
       "    <tr>\n",
       "      <th>1</th>\n",
       "      <td>M1C</td>\n",
       "      <td>Scarborough</td>\n",
       "      <td>Rouge Hill / Port Union / Highland Creek</td>\n",
       "    </tr>\n",
       "    <tr>\n",
       "      <th>2</th>\n",
       "      <td>M1E</td>\n",
       "      <td>Scarborough</td>\n",
       "      <td>Guildwood / Morningside / West Hill</td>\n",
       "    </tr>\n",
       "    <tr>\n",
       "      <th>3</th>\n",
       "      <td>M1G</td>\n",
       "      <td>Scarborough</td>\n",
       "      <td>Woburn</td>\n",
       "    </tr>\n",
       "    <tr>\n",
       "      <th>4</th>\n",
       "      <td>M1H</td>\n",
       "      <td>Scarborough</td>\n",
       "      <td>Cedarbrae</td>\n",
       "    </tr>\n",
       "  </tbody>\n",
       "</table>\n",
       "</div>"
      ],
      "text/plain": [
       "  Postalcode      Borough                              Neighborhood\n",
       "0        M1B  Scarborough                           Malvern / Rouge\n",
       "1        M1C  Scarborough  Rouge Hill / Port Union / Highland Creek\n",
       "2        M1E  Scarborough       Guildwood / Morningside / West Hill\n",
       "3        M1G  Scarborough                                    Woburn\n",
       "4        M1H  Scarborough                                 Cedarbrae"
      ]
     },
     "execution_count": 12,
     "metadata": {},
     "output_type": "execute_result"
    }
   ],
   "source": [
    "print(df_2.shape)\n",
    "df_2.head()\n"
   ]
  },
  {
   "cell_type": "code",
   "execution_count": 13,
   "metadata": {},
   "outputs": [
    {
     "data": {
      "text/plain": [
       "[43.70941386000004, -79.36309957799995]"
      ]
     },
     "execution_count": 13,
     "metadata": {},
     "output_type": "execute_result"
    }
   ],
   "source": [
    "def get_latilong(postal_code):\n",
    "    lati_long_coords = None\n",
    "    while(lati_long_coords is None):\n",
    "        g = geocoder.arcgis('{}, Toronto, Ontario'.format(postal_code))\n",
    "        lati_long_coords = g.latlng\n",
    "    return lati_long_coords\n",
    "    \n",
    "get_latilong('M4G')"
   ]
  },
  {
   "cell_type": "code",
   "execution_count": 14,
   "metadata": {},
   "outputs": [
    {
     "data": {
      "text/html": [
       "<div>\n",
       "<style scoped>\n",
       "    .dataframe tbody tr th:only-of-type {\n",
       "        vertical-align: middle;\n",
       "    }\n",
       "\n",
       "    .dataframe tbody tr th {\n",
       "        vertical-align: top;\n",
       "    }\n",
       "\n",
       "    .dataframe thead th {\n",
       "        text-align: right;\n",
       "    }\n",
       "</style>\n",
       "<table border=\"1\" class=\"dataframe\">\n",
       "  <thead>\n",
       "    <tr style=\"text-align: right;\">\n",
       "      <th></th>\n",
       "      <th>Postalcode</th>\n",
       "      <th>Borough</th>\n",
       "      <th>Neighborhood</th>\n",
       "      <th>Latitude</th>\n",
       "      <th>Longitude</th>\n",
       "    </tr>\n",
       "  </thead>\n",
       "  <tbody>\n",
       "    <tr>\n",
       "      <th>57</th>\n",
       "      <td>M5G</td>\n",
       "      <td>Downtown Toronto</td>\n",
       "      <td>Central Bay Street</td>\n",
       "      <td>43.656072</td>\n",
       "      <td>-79.385653</td>\n",
       "    </tr>\n",
       "  </tbody>\n",
       "</table>\n",
       "</div>"
      ],
      "text/plain": [
       "   Postalcode           Borough        Neighborhood   Latitude  Longitude\n",
       "57        M5G  Downtown Toronto  Central Bay Street  43.656072 -79.385653"
      ]
     },
     "execution_count": 14,
     "metadata": {},
     "output_type": "execute_result"
    }
   ],
   "source": [
    "postal_codes = df_2['Postalcode']    \n",
    "coords = [ get_latilong(postal_code) for postal_code in postal_codes.tolist() ]\n",
    "# Adding Columns Latitude & Longitude\n",
    "df_coords = pd.DataFrame(coords, columns=['Latitude', 'Longitude'])\n",
    "df_2['Latitude'] = df_coords['Latitude']\n",
    "df_2['Longitude'] = df_coords['Longitude']\n",
    "df_2[df_2.Postalcode == 'M5G']"
   ]
  },
  {
   "cell_type": "code",
   "execution_count": 15,
   "metadata": {},
   "outputs": [
    {
     "data": {
      "text/html": [
       "<div>\n",
       "<style scoped>\n",
       "    .dataframe tbody tr th:only-of-type {\n",
       "        vertical-align: middle;\n",
       "    }\n",
       "\n",
       "    .dataframe tbody tr th {\n",
       "        vertical-align: top;\n",
       "    }\n",
       "\n",
       "    .dataframe thead th {\n",
       "        text-align: right;\n",
       "    }\n",
       "</style>\n",
       "<table border=\"1\" class=\"dataframe\">\n",
       "  <thead>\n",
       "    <tr style=\"text-align: right;\">\n",
       "      <th></th>\n",
       "      <th>Postalcode</th>\n",
       "      <th>Borough</th>\n",
       "      <th>Neighborhood</th>\n",
       "      <th>Latitude</th>\n",
       "      <th>Longitude</th>\n",
       "    </tr>\n",
       "  </thead>\n",
       "  <tbody>\n",
       "    <tr>\n",
       "      <th>0</th>\n",
       "      <td>M1B</td>\n",
       "      <td>Scarborough</td>\n",
       "      <td>Malvern / Rouge</td>\n",
       "      <td>43.808626</td>\n",
       "      <td>-79.189913</td>\n",
       "    </tr>\n",
       "    <tr>\n",
       "      <th>1</th>\n",
       "      <td>M1C</td>\n",
       "      <td>Scarborough</td>\n",
       "      <td>Rouge Hill / Port Union / Highland Creek</td>\n",
       "      <td>43.785779</td>\n",
       "      <td>-79.157368</td>\n",
       "    </tr>\n",
       "    <tr>\n",
       "      <th>2</th>\n",
       "      <td>M1E</td>\n",
       "      <td>Scarborough</td>\n",
       "      <td>Guildwood / Morningside / West Hill</td>\n",
       "      <td>43.765806</td>\n",
       "      <td>-79.185284</td>\n",
       "    </tr>\n",
       "    <tr>\n",
       "      <th>3</th>\n",
       "      <td>M1G</td>\n",
       "      <td>Scarborough</td>\n",
       "      <td>Woburn</td>\n",
       "      <td>43.771545</td>\n",
       "      <td>-79.218135</td>\n",
       "    </tr>\n",
       "    <tr>\n",
       "      <th>4</th>\n",
       "      <td>M1H</td>\n",
       "      <td>Scarborough</td>\n",
       "      <td>Cedarbrae</td>\n",
       "      <td>43.768791</td>\n",
       "      <td>-79.238813</td>\n",
       "    </tr>\n",
       "    <tr>\n",
       "      <th>5</th>\n",
       "      <td>M1J</td>\n",
       "      <td>Scarborough</td>\n",
       "      <td>Scarborough Village</td>\n",
       "      <td>43.744203</td>\n",
       "      <td>-79.228725</td>\n",
       "    </tr>\n",
       "    <tr>\n",
       "      <th>6</th>\n",
       "      <td>M1K</td>\n",
       "      <td>Scarborough</td>\n",
       "      <td>Kennedy Park / Ionview / East Birchmount Park</td>\n",
       "      <td>43.726881</td>\n",
       "      <td>-79.265694</td>\n",
       "    </tr>\n",
       "    <tr>\n",
       "      <th>7</th>\n",
       "      <td>M1L</td>\n",
       "      <td>Scarborough</td>\n",
       "      <td>Golden Mile / Clairlea / Oakridge</td>\n",
       "      <td>43.713340</td>\n",
       "      <td>-79.284942</td>\n",
       "    </tr>\n",
       "    <tr>\n",
       "      <th>8</th>\n",
       "      <td>M1M</td>\n",
       "      <td>Scarborough</td>\n",
       "      <td>Cliffside / Cliffcrest / Scarborough Village West</td>\n",
       "      <td>43.723538</td>\n",
       "      <td>-79.228353</td>\n",
       "    </tr>\n",
       "    <tr>\n",
       "      <th>9</th>\n",
       "      <td>M1N</td>\n",
       "      <td>Scarborough</td>\n",
       "      <td>Birch Cliff / Cliffside West</td>\n",
       "      <td>43.696448</td>\n",
       "      <td>-79.265642</td>\n",
       "    </tr>\n",
       "  </tbody>\n",
       "</table>\n",
       "</div>"
      ],
      "text/plain": [
       "  Postalcode      Borough                                       Neighborhood  \\\n",
       "0        M1B  Scarborough                                    Malvern / Rouge   \n",
       "1        M1C  Scarborough           Rouge Hill / Port Union / Highland Creek   \n",
       "2        M1E  Scarborough                Guildwood / Morningside / West Hill   \n",
       "3        M1G  Scarborough                                             Woburn   \n",
       "4        M1H  Scarborough                                          Cedarbrae   \n",
       "5        M1J  Scarborough                                Scarborough Village   \n",
       "6        M1K  Scarborough      Kennedy Park / Ionview / East Birchmount Park   \n",
       "7        M1L  Scarborough                  Golden Mile / Clairlea / Oakridge   \n",
       "8        M1M  Scarborough  Cliffside / Cliffcrest / Scarborough Village West   \n",
       "9        M1N  Scarborough                       Birch Cliff / Cliffside West   \n",
       "\n",
       "    Latitude  Longitude  \n",
       "0  43.808626 -79.189913  \n",
       "1  43.785779 -79.157368  \n",
       "2  43.765806 -79.185284  \n",
       "3  43.771545 -79.218135  \n",
       "4  43.768791 -79.238813  \n",
       "5  43.744203 -79.228725  \n",
       "6  43.726881 -79.265694  \n",
       "7  43.713340 -79.284942  \n",
       "8  43.723538 -79.228353  \n",
       "9  43.696448 -79.265642  "
      ]
     },
     "execution_count": 15,
     "metadata": {},
     "output_type": "execute_result"
    }
   ],
   "source": [
    "\n",
    "df_2.head(10)"
   ]
  },
  {
   "cell_type": "code",
   "execution_count": 16,
   "metadata": {},
   "outputs": [
    {
     "name": "stdout",
     "output_type": "stream",
     "text": [
      "The Geograpical Co-ordinate of Scarborough,Toronto are 43.773077, -79.257774.\n"
     ]
    }
   ],
   "source": [
    "\n",
    "address = 'Scarborough,Toronto'\n",
    "\n",
    "geolocator = Nominatim()\n",
    "location = geolocator.geocode(address)\n",
    "latitude_x = location.latitude\n",
    "longitude_y = location.longitude\n",
    "print('The Geograpical Co-ordinate of Scarborough,Toronto are {}, {}.'.format(latitude_x, longitude_y))"
   ]
  },
  {
   "cell_type": "markdown",
   "metadata": {},
   "source": [
    "<h4>3. Map of Scarborough</h4>"
   ]
  },
  {
   "cell_type": "code",
   "execution_count": 18,
   "metadata": {},
   "outputs": [
    {
     "data": {
      "text/html": [
       "<div style=\"width:100%;\"><div style=\"position:relative;width:100%;height:0;padding-bottom:60%;\"><iframe src=\"about:blank\" style=\"position:absolute;width:100%;height:100%;left:0;top:0;border:none !important;\" data-html=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 onload=\"this.contentDocument.open();this.contentDocument.write(atob(this.getAttribute('data-html')));this.contentDocument.close();\" allowfullscreen webkitallowfullscreen mozallowfullscreen></iframe></div></div>"
      ],
      "text/plain": [
       "<folium.folium.Map at 0x23e39e9b550>"
      ]
     },
     "execution_count": 18,
     "metadata": {},
     "output_type": "execute_result"
    }
   ],
   "source": [
    "map_Scarborough = folium.Map(location=[latitude_x, longitude_y], zoom_start=10)\n",
    "\n",
    "for lat, lng, nei in zip(df_2['Latitude'], df_2['Longitude'], df_2['Neighborhood']):\n",
    "    \n",
    "    label = '{}'.format(nei)\n",
    "    label = folium.Popup(label, parse_html=True)\n",
    "    folium.CircleMarker(\n",
    "        [lat, lng],\n",
    "        radius=5,\n",
    "        popup=label,\n",
    "        color='blue',\n",
    "        fill=True,\n",
    "        fill_color='#3186cc',\n",
    "        fill_opacity=0.7,\n",
    "        parse_html=False).add_to(map_Scarborough)  \n",
    "    \n",
    "map_Scarborough"
   ]
  },
  {
   "cell_type": "code",
   "execution_count": 19,
   "metadata": {},
   "outputs": [
    {
     "name": "stdout",
     "output_type": "stream",
     "text": [
      "The Geograpical Co-ordinate of Neighborhood_1 are 43.773077, -79.257774.\n"
     ]
    }
   ],
   "source": [
    "address = 'Scarborough,Toronto'\n",
    "\n",
    "geolocator = Nominatim()\n",
    "location = geolocator.geocode(address)\n",
    "latitude_n1 = location.latitude\n",
    "longitude_n1 = location.longitude\n",
    "print('The Geograpical Co-ordinate of Neighborhood_1 are {}, {}.'.format(latitude_x, longitude_y))"
   ]
  },
  {
   "cell_type": "code",
   "execution_count": 21,
   "metadata": {},
   "outputs": [
    {
     "name": "stdout",
     "output_type": "stream",
     "text": [
      "Your credentails:\n",
      "CLIENT_ID: ITP1TLFWOJK5ZELU0AWY4TIGNC5F0WSCJXZRVZLQWZLS5Z5Q\n",
      "CLIENT_SECRET: PTUXZX1T00WQ3IXJBC3AZCTG0UT0SDKQSQOZR1OJZTZJBE5V\n"
     ]
    }
   ],
   "source": [
    "# @hiddel_cell\n",
    "CLIENT_ID = 'ITP1TLFWOJK5ZELU0AWY4TIGNC5F0WSCJXZRVZLQWZLS5Z5Q' # my Foursquare ID\n",
    "CLIENT_SECRET = 'PTUXZX1T00WQ3IXJBC3AZCTG0UT0SDKQSQOZR1OJZTZJBE5V' # my Foursquare Secret\n",
    "VERSION = '20180604'\n",
    "LIMIT = 30\n",
    "print('Your credentails:')\n",
    "print('CLIENT_ID: '+CLIENT_ID)\n",
    "print('CLIENT_SECRET: '+CLIENT_SECRET)"
   ]
  },
  {
   "cell_type": "code",
   "execution_count": 23,
   "metadata": {},
   "outputs": [],
   "source": [
    "radius = 700 \n",
    "LIMIT = 100\n",
    "url = 'https://api.foursquare.com/v2/venues/explore?&client_id={}&client_secret={}&v={}&ll={},{}&radius={}&limit={}'.format(\n",
    "    CLIENT_ID, \n",
    "    CLIENT_SECRET, \n",
    "    VERSION, \n",
    "    latitude_n1, \n",
    "   longitude_n1, \n",
    "    radius, \n",
    "   LIMIT)\n",
    "results = requests.get(url).json()"
   ]
  },
  {
   "cell_type": "code",
   "execution_count": 24,
   "metadata": {},
   "outputs": [
    {
     "data": {
      "text/plain": [
       "Index(['reasons.count', 'reasons.items', 'referralId', 'venue.categories',\n",
       "       'venue.events.count', 'venue.events.items', 'venue.events.summary',\n",
       "       'venue.id', 'venue.location.address', 'venue.location.cc',\n",
       "       'venue.location.city', 'venue.location.country',\n",
       "       'venue.location.crossStreet', 'venue.location.distance',\n",
       "       'venue.location.formattedAddress', 'venue.location.labeledLatLngs',\n",
       "       'venue.location.lat', 'venue.location.lng',\n",
       "       'venue.location.neighborhood', 'venue.location.postalCode',\n",
       "       'venue.location.state', 'venue.name', 'venue.photos.count',\n",
       "       'venue.photos.groups', 'venue.venuePage.id'],\n",
       "      dtype='object')"
      ]
     },
     "execution_count": 24,
     "metadata": {},
     "output_type": "execute_result"
    }
   ],
   "source": [
    "venues=results['response']['groups'][0]['items']\n",
    "nearby_venues = json_normalize(venues)\n",
    "nearby_venues.columns"
   ]
  },
  {
   "cell_type": "code",
   "execution_count": 25,
   "metadata": {},
   "outputs": [],
   "source": [
    "def get_category_type(row):\n",
    "    try:\n",
    "        categories_list = row['categories']\n",
    "    except:\n",
    "        categories_list = row['venue.categories']\n",
    "        \n",
    "    if len(categories_list) == 0:\n",
    "        return None\n",
    "    else:\n",
    "        return categories_list[0]['name']"
   ]
  },
  {
   "cell_type": "markdown",
   "metadata": {},
   "source": [
    "<h4>4. Nearby Venues/Locations</h4>"
   ]
  },
  {
   "cell_type": "code",
   "execution_count": 26,
   "metadata": {},
   "outputs": [
    {
     "data": {
      "text/html": [
       "<div>\n",
       "<style scoped>\n",
       "    .dataframe tbody tr th:only-of-type {\n",
       "        vertical-align: middle;\n",
       "    }\n",
       "\n",
       "    .dataframe tbody tr th {\n",
       "        vertical-align: top;\n",
       "    }\n",
       "\n",
       "    .dataframe thead th {\n",
       "        text-align: right;\n",
       "    }\n",
       "</style>\n",
       "<table border=\"1\" class=\"dataframe\">\n",
       "  <thead>\n",
       "    <tr style=\"text-align: right;\">\n",
       "      <th></th>\n",
       "      <th>venue.name</th>\n",
       "      <th>venue.categories</th>\n",
       "      <th>venue.location.lat</th>\n",
       "      <th>venue.location.lng</th>\n",
       "    </tr>\n",
       "  </thead>\n",
       "  <tbody>\n",
       "    <tr>\n",
       "      <th>0</th>\n",
       "      <td>Disney Store</td>\n",
       "      <td>[{'id': '4bf58dd8d48988d1f3941735', 'name': 'T...</td>\n",
       "      <td>43.775537</td>\n",
       "      <td>-79.256833</td>\n",
       "    </tr>\n",
       "    <tr>\n",
       "      <th>1</th>\n",
       "      <td>SEPHORA</td>\n",
       "      <td>[{'id': '4bf58dd8d48988d10c951735', 'name': 'C...</td>\n",
       "      <td>43.775017</td>\n",
       "      <td>-79.258109</td>\n",
       "    </tr>\n",
       "    <tr>\n",
       "      <th>2</th>\n",
       "      <td>American Eagle Outfitters</td>\n",
       "      <td>[{'id': '4bf58dd8d48988d103951735', 'name': 'C...</td>\n",
       "      <td>43.776012</td>\n",
       "      <td>-79.258334</td>\n",
       "    </tr>\n",
       "    <tr>\n",
       "      <th>3</th>\n",
       "      <td>St. Andrews Fish &amp; Chips</td>\n",
       "      <td>[{'id': '4edd64a0c7ddd24ca188df1a', 'name': 'F...</td>\n",
       "      <td>43.771865</td>\n",
       "      <td>-79.252645</td>\n",
       "    </tr>\n",
       "    <tr>\n",
       "      <th>4</th>\n",
       "      <td>Canyon Creek Chophouse</td>\n",
       "      <td>[{'id': '4bf58dd8d48988d1cc941735', 'name': 'S...</td>\n",
       "      <td>43.776959</td>\n",
       "      <td>-79.261694</td>\n",
       "    </tr>\n",
       "  </tbody>\n",
       "</table>\n",
       "</div>"
      ],
      "text/plain": [
       "                  venue.name  \\\n",
       "0               Disney Store   \n",
       "1                    SEPHORA   \n",
       "2  American Eagle Outfitters   \n",
       "3   St. Andrews Fish & Chips   \n",
       "4     Canyon Creek Chophouse   \n",
       "\n",
       "                                    venue.categories  venue.location.lat  \\\n",
       "0  [{'id': '4bf58dd8d48988d1f3941735', 'name': 'T...           43.775537   \n",
       "1  [{'id': '4bf58dd8d48988d10c951735', 'name': 'C...           43.775017   \n",
       "2  [{'id': '4bf58dd8d48988d103951735', 'name': 'C...           43.776012   \n",
       "3  [{'id': '4edd64a0c7ddd24ca188df1a', 'name': 'F...           43.771865   \n",
       "4  [{'id': '4bf58dd8d48988d1cc941735', 'name': 'S...           43.776959   \n",
       "\n",
       "   venue.location.lng  \n",
       "0          -79.256833  \n",
       "1          -79.258109  \n",
       "2          -79.258334  \n",
       "3          -79.252645  \n",
       "4          -79.261694  "
      ]
     },
     "execution_count": 26,
     "metadata": {},
     "output_type": "execute_result"
    }
   ],
   "source": [
    "filtered_columns = ['venue.name', 'venue.categories', 'venue.location.lat', 'venue.location.lng']\n",
    "nearby_venues =nearby_venues.loc[:, filtered_columns]\n",
    "nearby_venues.head()"
   ]
  },
  {
   "cell_type": "markdown",
   "metadata": {},
   "source": [
    "\n",
    "<h4>5. Categories of Nearby Venues/Locations</h4>"
   ]
  },
  {
   "cell_type": "code",
   "execution_count": 27,
   "metadata": {},
   "outputs": [
    {
     "data": {
      "text/html": [
       "<div>\n",
       "<style scoped>\n",
       "    .dataframe tbody tr th:only-of-type {\n",
       "        vertical-align: middle;\n",
       "    }\n",
       "\n",
       "    .dataframe tbody tr th {\n",
       "        vertical-align: top;\n",
       "    }\n",
       "\n",
       "    .dataframe thead th {\n",
       "        text-align: right;\n",
       "    }\n",
       "</style>\n",
       "<table border=\"1\" class=\"dataframe\">\n",
       "  <thead>\n",
       "    <tr style=\"text-align: right;\">\n",
       "      <th></th>\n",
       "      <th>name</th>\n",
       "      <th>categories</th>\n",
       "      <th>lat</th>\n",
       "      <th>lng</th>\n",
       "    </tr>\n",
       "  </thead>\n",
       "  <tbody>\n",
       "    <tr>\n",
       "      <th>0</th>\n",
       "      <td>Disney Store</td>\n",
       "      <td>Toy / Game Store</td>\n",
       "      <td>43.775537</td>\n",
       "      <td>-79.256833</td>\n",
       "    </tr>\n",
       "    <tr>\n",
       "      <th>1</th>\n",
       "      <td>SEPHORA</td>\n",
       "      <td>Cosmetics Shop</td>\n",
       "      <td>43.775017</td>\n",
       "      <td>-79.258109</td>\n",
       "    </tr>\n",
       "    <tr>\n",
       "      <th>2</th>\n",
       "      <td>American Eagle Outfitters</td>\n",
       "      <td>Clothing Store</td>\n",
       "      <td>43.776012</td>\n",
       "      <td>-79.258334</td>\n",
       "    </tr>\n",
       "    <tr>\n",
       "      <th>3</th>\n",
       "      <td>St. Andrews Fish &amp; Chips</td>\n",
       "      <td>Fish &amp; Chips Shop</td>\n",
       "      <td>43.771865</td>\n",
       "      <td>-79.252645</td>\n",
       "    </tr>\n",
       "    <tr>\n",
       "      <th>4</th>\n",
       "      <td>Canyon Creek Chophouse</td>\n",
       "      <td>Steakhouse</td>\n",
       "      <td>43.776959</td>\n",
       "      <td>-79.261694</td>\n",
       "    </tr>\n",
       "  </tbody>\n",
       "</table>\n",
       "</div>"
      ],
      "text/plain": [
       "                        name         categories        lat        lng\n",
       "0               Disney Store   Toy / Game Store  43.775537 -79.256833\n",
       "1                    SEPHORA     Cosmetics Shop  43.775017 -79.258109\n",
       "2  American Eagle Outfitters     Clothing Store  43.776012 -79.258334\n",
       "3   St. Andrews Fish & Chips  Fish & Chips Shop  43.771865 -79.252645\n",
       "4     Canyon Creek Chophouse         Steakhouse  43.776959 -79.261694"
      ]
     },
     "execution_count": 27,
     "metadata": {},
     "output_type": "execute_result"
    }
   ],
   "source": [
    "nearby_venues['venue.categories'] = nearby_venues.apply(get_category_type, axis=1)\n",
    "\n",
    "# clean columns\n",
    "nearby_venues.columns = [col.split(\".\")[-1] for col in nearby_venues.columns]\n",
    "\n",
    "nearby_venues.head(5)"
   ]
  },
  {
   "cell_type": "code",
   "execution_count": 28,
   "metadata": {},
   "outputs": [
    {
     "data": {
      "text/plain": [
       "Clothing Store    7\n",
       "Coffee Shop       5\n",
       "Restaurant        4\n",
       "Cosmetics Shop    3\n",
       "Pharmacy          2\n",
       "Sandwich Place    2\n",
       "Tea Room          2\n",
       "Gas Station       2\n",
       "Jewelry Store     1\n",
       "Discount Store    1\n",
       "Name: categories, dtype: int64"
      ]
     },
     "execution_count": 28,
     "metadata": {},
     "output_type": "execute_result"
    }
   ],
   "source": [
    "a=pd.Series(nearby_venues.categories)\n",
    "a.value_counts()[:10]"
   ]
  },
  {
   "cell_type": "code",
   "execution_count": 29,
   "metadata": {},
   "outputs": [],
   "source": [
    "def getNearbyVenues(names, latitudes, longitudes, radius=700):\n",
    "    \n",
    "    venues_list=[]\n",
    "    for name, lat, lng in zip(names, latitudes, longitudes):\n",
    "        print(name)\n",
    "            \n",
    "        url = 'https://api.foursquare.com/v2/venues/explore?&client_id={}&client_secret={}&v={}&ll={},{}&radius={}&limit={}'.format(\n",
    "            CLIENT_ID, \n",
    "            CLIENT_SECRET, \n",
    "            VERSION, \n",
    "            lat, \n",
    "            lng, \n",
    "            radius, \n",
    "            LIMIT)\n",
    "            \n",
    "        # making GET request\n",
    "        venue_results = requests.get(url).json()[\"response\"]['groups'][0]['items']\n",
    "        \n",
    "        # return only relevant information for each nearby venue\n",
    "        venues_list.append([(\n",
    "            name, \n",
    "            lat, \n",
    "            lng, \n",
    "            v['venue']['name'], \n",
    "            v['venue']['location']['lat'], \n",
    "            v['venue']['location']['lng'],  \n",
    "            v['venue']['categories'][0]['name']) for v in venue_results])\n",
    "\n",
    "    nearby_venues = pd.DataFrame([item for venue_list in venues_list for item in venue_list])\n",
    "    nearby_venues.columns = ['Neighborhood', \n",
    "                  'Neighborhood Latitude', \n",
    "                  'Neighborhood Longitude', \n",
    "                  'Venue', \n",
    "                  'Venue Latitude', \n",
    "                  'Venue Longitude', \n",
    "                  'Venue Category']\n",
    "    \n",
    "    return(nearby_venues)"
   ]
  },
  {
   "cell_type": "code",
   "execution_count": 30,
   "metadata": {},
   "outputs": [
    {
     "name": "stdout",
     "output_type": "stream",
     "text": [
      "Malvern / Rouge\n",
      "Rouge Hill / Port Union / Highland Creek\n",
      "Guildwood / Morningside / West Hill\n",
      "Woburn\n",
      "Cedarbrae\n",
      "Scarborough Village\n",
      "Kennedy Park / Ionview / East Birchmount Park\n",
      "Golden Mile / Clairlea / Oakridge\n",
      "Cliffside / Cliffcrest / Scarborough Village West\n",
      "Birch Cliff / Cliffside West\n",
      "Dorset Park / Wexford Heights / Scarborough Town Centre\n",
      "Wexford / Maryvale\n",
      "Agincourt\n",
      "Clarks Corners / Tam O'Shanter / Sullivan\n",
      "Milliken / Agincourt North / Steeles East / L'Amoreaux East\n",
      "Steeles West / L'Amoreaux West\n",
      "Upper Rouge\n",
      "Hillcrest Village\n",
      "Fairview / Henry Farm / Oriole\n",
      "Bayview Village\n",
      "York Mills / Silver Hills\n",
      "Willowdale / Newtonbrook\n",
      "Willowdale\n",
      "York Mills West\n",
      "Willowdale\n",
      "Parkwoods\n",
      "Don Mills\n",
      "Don Mills\n",
      "Bathurst Manor / Wilson Heights / Downsview North\n",
      "Northwood Park / York University\n",
      "Downsview\n",
      "Downsview\n",
      "Downsview\n",
      "Downsview\n",
      "Victoria Village\n",
      "Parkview Hill / Woodbine Gardens\n",
      "Woodbine Heights\n",
      "The Beaches\n",
      "Leaside\n",
      "Thorncliffe Park\n",
      "East Toronto\n",
      "The Danforth West / Riverdale\n",
      "India Bazaar / The Beaches West\n",
      "Studio District\n",
      "Lawrence Park\n",
      "Davisville North\n",
      "North Toronto West\n",
      "Davisville\n",
      "Moore Park / Summerhill East\n",
      "Summerhill West / Rathnelly / South Hill / Forest Hill SE / Deer Park\n",
      "Rosedale\n",
      "St. James Town / Cabbagetown\n",
      "Church and Wellesley\n",
      "Regent Park / Harbourfront\n",
      "Garden District, Ryerson\n",
      "St. James Town\n",
      "Berczy Park\n",
      "Central Bay Street\n"
     ]
    },
    {
     "ename": "KeyError",
     "evalue": "'groups'",
     "output_type": "error",
     "traceback": [
      "\u001b[1;31m---------------------------------------------------------------------------\u001b[0m",
      "\u001b[1;31mKeyError\u001b[0m                                  Traceback (most recent call last)",
      "\u001b[1;32m<ipython-input-30-7488bf1bbe44>\u001b[0m in \u001b[0;36m<module>\u001b[1;34m\u001b[0m\n\u001b[0;32m      1\u001b[0m Scarborough_venues = getNearbyVenues(names=df_2['Neighborhood'],\n\u001b[0;32m      2\u001b[0m                                    \u001b[0mlatitudes\u001b[0m\u001b[1;33m=\u001b[0m\u001b[0mdf_2\u001b[0m\u001b[1;33m[\u001b[0m\u001b[1;34m'Latitude'\u001b[0m\u001b[1;33m]\u001b[0m\u001b[1;33m,\u001b[0m\u001b[1;33m\u001b[0m\u001b[1;33m\u001b[0m\u001b[0m\n\u001b[1;32m----> 3\u001b[1;33m                                    \u001b[0mlongitudes\u001b[0m\u001b[1;33m=\u001b[0m\u001b[0mdf_2\u001b[0m\u001b[1;33m[\u001b[0m\u001b[1;34m'Longitude'\u001b[0m\u001b[1;33m]\u001b[0m\u001b[1;33m\u001b[0m\u001b[1;33m\u001b[0m\u001b[0m\n\u001b[0m\u001b[0;32m      4\u001b[0m                                   )\n",
      "\u001b[1;32m<ipython-input-29-4cefc429cb06>\u001b[0m in \u001b[0;36mgetNearbyVenues\u001b[1;34m(names, latitudes, longitudes, radius)\u001b[0m\n\u001b[0;32m     15\u001b[0m \u001b[1;33m\u001b[0m\u001b[0m\n\u001b[0;32m     16\u001b[0m         \u001b[1;31m# making GET request\u001b[0m\u001b[1;33m\u001b[0m\u001b[1;33m\u001b[0m\u001b[1;33m\u001b[0m\u001b[0m\n\u001b[1;32m---> 17\u001b[1;33m         \u001b[0mvenue_results\u001b[0m \u001b[1;33m=\u001b[0m \u001b[0mrequests\u001b[0m\u001b[1;33m.\u001b[0m\u001b[0mget\u001b[0m\u001b[1;33m(\u001b[0m\u001b[0murl\u001b[0m\u001b[1;33m)\u001b[0m\u001b[1;33m.\u001b[0m\u001b[0mjson\u001b[0m\u001b[1;33m(\u001b[0m\u001b[1;33m)\u001b[0m\u001b[1;33m[\u001b[0m\u001b[1;34m\"response\"\u001b[0m\u001b[1;33m]\u001b[0m\u001b[1;33m[\u001b[0m\u001b[1;34m'groups'\u001b[0m\u001b[1;33m]\u001b[0m\u001b[1;33m[\u001b[0m\u001b[1;36m0\u001b[0m\u001b[1;33m]\u001b[0m\u001b[1;33m[\u001b[0m\u001b[1;34m'items'\u001b[0m\u001b[1;33m]\u001b[0m\u001b[1;33m\u001b[0m\u001b[1;33m\u001b[0m\u001b[0m\n\u001b[0m\u001b[0;32m     18\u001b[0m \u001b[1;33m\u001b[0m\u001b[0m\n\u001b[0;32m     19\u001b[0m         \u001b[1;31m# return only relevant information for each nearby venue\u001b[0m\u001b[1;33m\u001b[0m\u001b[1;33m\u001b[0m\u001b[1;33m\u001b[0m\u001b[0m\n",
      "\u001b[1;31mKeyError\u001b[0m: 'groups'"
     ]
    }
   ],
   "source": [
    "Scarborough_venues = getNearbyVenues(names=df_2['Neighborhood'],\n",
    "                                   latitudes=df_2['Latitude'],\n",
    "                                   longitudes=df_2['Longitude']\n",
    "                                  )"
   ]
  },
  {
   "cell_type": "code",
   "execution_count": null,
   "metadata": {},
   "outputs": [],
   "source": [
    "\n",
    "print('There are {} Uniques Categories.'.format(len(Scarborough_venues['Venue Category'].unique())))\n",
    "Scarborough_venues.groupby('Neighborhood').count().head()"
   ]
  }
 ],
 "metadata": {
  "kernelspec": {
   "display_name": "Python 3",
   "language": "python",
   "name": "python3"
  },
  "language_info": {
   "codemirror_mode": {
    "name": "ipython",
    "version": 3
   },
   "file_extension": ".py",
   "mimetype": "text/x-python",
   "name": "python",
   "nbconvert_exporter": "python",
   "pygments_lexer": "ipython3",
   "version": "3.7.3"
  }
 },
 "nbformat": 4,
 "nbformat_minor": 2
}
